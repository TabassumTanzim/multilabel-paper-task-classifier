{
 "cells": [
  {
   "cell_type": "code",
   "execution_count": 1,
   "id": "c11a433f",
   "metadata": {},
   "outputs": [],
   "source": [
    "import pandas as pd"
   ]
  },
  {
   "cell_type": "code",
   "execution_count": null,
   "id": "3bfa4a39",
   "metadata": {},
   "outputs": [],
   "source": [
    "df0=pd.read_csv(\"T-1.csv\")\n",
    "df1=pd.read_csv(\"T-2.csv\")\n",
    "df2=pd.read_csv(\"T-3.csv\")\n",
    "df3=pd.read_csv(\"T-4.csv\")\n",
    "df4=pd.read_csv(\"T-5.csv\")\n",
    "df5=pd.read_csv(\"T-6.csv\")\n",
    "df6=pd.read_csv(\"T-7.csv\")\n",
    "df7=pd.read_csv(\"T-8.csv\")\n",
    "df8=pd.read_csv(\"T-9.csv\")\n",
    "df9=pd.read_csv(\"T-10.csv\")\n",
    "df10=pd.read_csv(\"T-11.csv\")\n",
    "df11=pd.read_csv(\"T-12.csv\")\n",
    "df12=pd.read_csv(\"T-13.csv\")\n",
    "df13=pd.read_csv(\"T-14.csv\")\n",
    "df14=pd.read_csv(\"T-15.csv\")\n",
    "df15=pd.read_csv(\"T-16.csv\")\n",
    "df16=pd.read_csv(\"T-17.csv\")\n",
    "df17=pd.read_csv(\"N-1.csv\")\n",
    "df18=pd.read_csv(\"N-2.csv\")\n",
    "df19=pd.read_csv(\"V-1.csv\")\n",
    "df20=pd.read_csv(\"V-2.csv\")\n",
    "df21=pd.read_csv(\"F.csv\")"
   ]
  },
  {
   "cell_type": "code",
   "execution_count": null,
   "id": "e1359cc0",
   "metadata": {},
   "outputs": [],
   "source": [
    "merge = pd.concat([df0,df1,df2,df3,df4,df5,df6,df7,df8,df9,df10,df11,df12,df13,df14,df15,df16,df17,df18,df19,df20,df21],ignore_index=False)"
   ]
  },
  {
   "cell_type": "code",
   "execution_count": null,
   "id": "bc85d679",
   "metadata": {},
   "outputs": [],
   "source": [
    "merge"
   ]
  },
  {
   "cell_type": "code",
   "execution_count": null,
   "id": "8b8a8523",
   "metadata": {},
   "outputs": [],
   "source": [
    "merge.to_csv(\"date_3.csv\",index=False)"
   ]
  },
  {
   "cell_type": "code",
   "execution_count": null,
   "id": "78347d9c",
   "metadata": {},
   "outputs": [],
   "source": [
    "df0=pd.read_csv(\"21k.csv\")\n",
    "df1=pd.read_csv(\"action-recog.csv\")\n",
    "df2=pd.read_csv(\"alz.csv\")\n",
    "df3=pd.read_csv(\"cell.csv\")\n",
    "df4=pd.read_csv(\"deno.csv\")\n",
    "df5=pd.read_csv(\"depth.csv\")\n",
    "df6=pd.read_csv(\"diag.csv\")\n",
    "df7=pd.read_csv(\"domain.csv\")\n",
    "df8=pd.read_csv(\"driving.csv\")\n",
    "df9=pd.read_csv(\"emotion.csv\")\n",
    "df10=pd.read_csv(\"face-recog.csv\")\n",
    "df11=pd.read_csv(\"grammer.csv\")\n",
    "df12=pd.read_csv(\"img-recog.csv\")\n",
    "df13=pd.read_csv(\"les.csv\")\n",
    "df14=pd.read_csv(\"med.csv\")\n",
    "df15=pd.read_csv(\"meta.csv\")\n",
    "df16=pd.read_csv(\"obj.csv\")\n",
    "df17=pd.read_csv(\"re-iden.csv\")\n",
    "df18=pd.read_csv(\"rein.csv\")\n",
    "df19=pd.read_csv(\"Sem-Seg.csv\")\n",
    "df20=pd.read_csv(\"skin.csv\")\n",
    "df21=pd.read_csv(\"super.csv\")\n",
    "df22=pd.read_csv(\"tumor.csv\")\n"
   ]
  },
  {
   "cell_type": "code",
   "execution_count": 2,
   "id": "a17f20ac",
   "metadata": {},
   "outputs": [],
   "source": [
    "df0=pd.read_csv(\"upto_5k.csv\")\n",
    "df1=pd.read_csv(\"5-16k.csv\")\n",
    "df2=pd.read_csv(\"16-21k.csv\")\n",
    "df3=pd.read_csv(\"21-22k.csv\")\n",
    "df4=pd.read_csv(\"22-23k.csv\")\n",
    "df5=pd.read_csv(\"23-24k.csv\")\n",
    "df6=pd.read_csv(\"24-25k.csv\")\n",
    "df7=pd.read_csv(\"25-26k.csv\")\n",
    "df8=pd.read_csv(\"26-27k.csv\")\n",
    "df9=pd.read_csv(\"27-28k.csv\")\n",
    "df10=pd.read_csv(\"all_28k_data.csv\")"
   ]
  },
  {
   "cell_type": "code",
   "execution_count": null,
   "id": "5093bd6c",
   "metadata": {},
   "outputs": [],
   "source": [
    "merge = pd.concat([df0,df1,df2,df3,df4,df5,df6,df7],ignore_index=False)"
   ]
  },
  {
   "cell_type": "code",
   "execution_count": null,
   "id": "88957500",
   "metadata": {},
   "outputs": [],
   "source": [
    "print(f'df0={len(df0)}, df1={len(df1)}, df2={len(df2)}, df3={len(df3)}, df4={len(df4)}, df5={len(df5)}, df6={len(df6)}, df7={len(df7)}')\n"
   ]
  },
  {
   "cell_type": "code",
   "execution_count": 3,
   "id": "ecf3ef57",
   "metadata": {},
   "outputs": [],
   "source": [
    "merge2 = pd.concat([df0,df1,df2,df3,df4,df5,df6,df7,df8,df9],ignore_index=False)"
   ]
  },
  {
   "cell_type": "code",
   "execution_count": 4,
   "id": "5e79d808",
   "metadata": {},
   "outputs": [
    {
     "name": "stdout",
     "output_type": "stream",
     "text": [
      "df0=4948, df1=11423, df2=4695, df3=817, df4=1000, df5=998, df6=941, df7=1000, df8=996, df9=1063, df10=28067\n"
     ]
    }
   ],
   "source": [
    "print(f'df0={len(df0)}, df1={len(df1)}, df2={len(df2)}, df3={len(df3)}, df4={len(df4)}, df5={len(df5)}, df6={len(df6)}, df7={len(df7)}, df8={len(df8)}, df9={len(df9)}, df10={len(df10)}')\n"
   ]
  },
  {
   "cell_type": "code",
   "execution_count": 8,
   "id": "062c2063",
   "metadata": {},
   "outputs": [
    {
     "data": {
      "text/plain": [
       "26778"
      ]
     },
     "execution_count": 8,
     "metadata": {},
     "output_type": "execute_result"
    }
   ],
   "source": [
    "len(merge2)"
   ]
  },
  {
   "cell_type": "code",
   "execution_count": 7,
   "id": "e1601ba5",
   "metadata": {},
   "outputs": [
    {
     "data": {
      "text/plain": [
       "26778"
      ]
     },
     "execution_count": 7,
     "metadata": {},
     "output_type": "execute_result"
    }
   ],
   "source": [
    "len(merge2)"
   ]
  },
  {
   "cell_type": "code",
   "execution_count": 6,
   "id": "3d11dda5",
   "metadata": {},
   "outputs": [],
   "source": [
    "merge2=merge2.drop_duplicates(subset=['url'],keep='first')"
   ]
  },
  {
   "cell_type": "code",
   "execution_count": 9,
   "id": "c1f5a6c9",
   "metadata": {},
   "outputs": [],
   "source": [
    "merge2.to_csv(\"all_data.csv\",index=False)"
   ]
  },
  {
   "cell_type": "code",
   "execution_count": null,
   "id": "cbcd7bb6",
   "metadata": {},
   "outputs": [],
   "source": [
    "mer2[21180:]"
   ]
  },
  {
   "cell_type": "code",
   "execution_count": null,
   "id": "b4511815",
   "metadata": {},
   "outputs": [],
   "source": [
    "len(mer2)"
   ]
  },
  {
   "cell_type": "markdown",
   "id": "a2421cda",
   "metadata": {},
   "source": [
    "# Other way"
   ]
  },
  {
   "cell_type": "code",
   "execution_count": null,
   "id": "b78ad6b8",
   "metadata": {},
   "outputs": [],
   "source": [
    "merge2_reversed = merge2.iloc[::-1]"
   ]
  },
  {
   "cell_type": "code",
   "execution_count": null,
   "id": "68d4c1ae",
   "metadata": {},
   "outputs": [],
   "source": [
    "merge2_reversed"
   ]
  },
  {
   "cell_type": "code",
   "execution_count": null,
   "id": "f4b75e1d",
   "metadata": {},
   "outputs": [],
   "source": [
    "merge2_no_duplicates = merge2_reversed.drop_duplicates(subset=['url'])\n"
   ]
  },
  {
   "cell_type": "code",
   "execution_count": null,
   "id": "c75dea9d",
   "metadata": {},
   "outputs": [],
   "source": [
    "merge2_final = merge2_no_duplicates.iloc[::-1]"
   ]
  },
  {
   "cell_type": "code",
   "execution_count": null,
   "id": "ab295f29",
   "metadata": {},
   "outputs": [],
   "source": [
    "len(merge2_final)"
   ]
  },
  {
   "cell_type": "code",
   "execution_count": null,
   "id": "4bb9898a",
   "metadata": {},
   "outputs": [],
   "source": [
    "merge2_final"
   ]
  },
  {
   "cell_type": "code",
   "execution_count": null,
   "id": "d0132aa9",
   "metadata": {},
   "outputs": [],
   "source": [
    "merge2.to_csv(\"ChEck.csv\",index=False)"
   ]
  },
  {
   "cell_type": "markdown",
   "id": "43117f3b",
   "metadata": {},
   "source": [
    "## Checking duplicates"
   ]
  },
  {
   "cell_type": "code",
   "execution_count": null,
   "id": "bd9f50a6",
   "metadata": {},
   "outputs": [],
   "source": [
    "df0=pd.read_csv(\"till_date_1.csv\")\n",
    "df1=pd.read_csv(\"till_date_2.csv\")\n",
    "# df2=pd.read_csv(\"date_3.csv\")\n"
   ]
  },
  {
   "cell_type": "code",
   "execution_count": null,
   "id": "dcf55d3b",
   "metadata": {},
   "outputs": [],
   "source": [
    "merge = pd.concat([df0,df1],ignore_index=False)"
   ]
  },
  {
   "cell_type": "code",
   "execution_count": null,
   "id": "40e1a8e8",
   "metadata": {
    "scrolled": false
   },
   "outputs": [],
   "source": [
    "merge"
   ]
  },
  {
   "cell_type": "code",
   "execution_count": null,
   "id": "2ff42372",
   "metadata": {},
   "outputs": [],
   "source": [
    "merge=merge.drop_duplicates(subset=['url'],keep=False)"
   ]
  },
  {
   "cell_type": "code",
   "execution_count": null,
   "id": "f83abb82",
   "metadata": {},
   "outputs": [],
   "source": [
    "len(merge)"
   ]
  },
  {
   "cell_type": "code",
   "execution_count": null,
   "id": "11fc46e4",
   "metadata": {},
   "outputs": [],
   "source": [
    "merge.to_csv(\"all_till_date.csv\",index=False)"
   ]
  },
  {
   "cell_type": "code",
   "execution_count": null,
   "id": "549723cd",
   "metadata": {},
   "outputs": [],
   "source": [
    "date_2=pd.concat([merge,merge2,merge3])"
   ]
  },
  {
   "cell_type": "code",
   "execution_count": null,
   "id": "83d52488",
   "metadata": {},
   "outputs": [],
   "source": [
    "len(date_2)"
   ]
  },
  {
   "cell_type": "code",
   "execution_count": null,
   "id": "14ce50c2",
   "metadata": {},
   "outputs": [],
   "source": [
    "date_2.to_csv('date_2.csv',index=False)"
   ]
  },
  {
   "cell_type": "code",
   "execution_count": null,
   "id": "711c7ca5",
   "metadata": {},
   "outputs": [],
   "source": [
    "date_1=pd.read_csv('to_date_1.csv')"
   ]
  },
  {
   "cell_type": "code",
   "execution_count": null,
   "id": "49e4cafb",
   "metadata": {},
   "outputs": [],
   "source": [
    "len(date_1)"
   ]
  },
  {
   "cell_type": "code",
   "execution_count": null,
   "id": "0e50f6f5",
   "metadata": {},
   "outputs": [],
   "source": [
    "date_1=pd.read_csv('date_1.csv')\n",
    "len(date_1)"
   ]
  },
  {
   "cell_type": "code",
   "execution_count": null,
   "id": "a0cd8946",
   "metadata": {},
   "outputs": [],
   "source": [
    "date_2=pd.read_csv('date_2.csv')\n",
    "len(date_2)"
   ]
  },
  {
   "cell_type": "markdown",
   "id": "6be8c126",
   "metadata": {},
   "source": [
    "# 30 k"
   ]
  },
  {
   "cell_type": "code",
   "execution_count": null,
   "id": "017815d2",
   "metadata": {},
   "outputs": [],
   "source": [
    "df=pd.read_csv('30k.csv')"
   ]
  },
  {
   "cell_type": "code",
   "execution_count": null,
   "id": "bd2be6b6",
   "metadata": {},
   "outputs": [],
   "source": [
    "df"
   ]
  },
  {
   "cell_type": "code",
   "execution_count": null,
   "id": "673c550f",
   "metadata": {},
   "outputs": [],
   "source": [
    "df=df.drop_duplicates(subset=['url'],keep='first')"
   ]
  },
  {
   "cell_type": "code",
   "execution_count": null,
   "id": "7b1852cd",
   "metadata": {},
   "outputs": [],
   "source": [
    "df"
   ]
  },
  {
   "cell_type": "code",
   "execution_count": null,
   "id": "e2da0148",
   "metadata": {},
   "outputs": [],
   "source": [
    "df.to_csv(\"all_28k_data.csv\",index=False)"
   ]
  },
  {
   "cell_type": "code",
   "execution_count": null,
   "id": "c1df7acd",
   "metadata": {},
   "outputs": [],
   "source": [
    "df0=pd.read_csv(\"21k.csv\")"
   ]
  },
  {
   "cell_type": "code",
   "execution_count": null,
   "id": "247f1827",
   "metadata": {
    "scrolled": true
   },
   "outputs": [],
   "source": [
    "df0"
   ]
  },
  {
   "cell_type": "code",
   "execution_count": null,
   "id": "434fefe1",
   "metadata": {},
   "outputs": [],
   "source": []
  }
 ],
 "metadata": {
  "kernelspec": {
   "display_name": "Python 3 (ipykernel)",
   "language": "python",
   "name": "python3"
  },
  "language_info": {
   "codemirror_mode": {
    "name": "ipython",
    "version": 3
   },
   "file_extension": ".py",
   "mimetype": "text/x-python",
   "name": "python",
   "nbconvert_exporter": "python",
   "pygments_lexer": "ipython3",
   "version": "3.9.7"
  }
 },
 "nbformat": 4,
 "nbformat_minor": 5
}
